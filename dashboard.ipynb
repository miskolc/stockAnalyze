{
 "cells": [
  {
   "cell_type": "code",
   "execution_count": 1,
   "metadata": {
    "collapsed": false
   },
   "outputs": [
    {
     "name": "stderr",
     "output_type": "stream",
     "text": [
      "/home/wanw/tmp/anaconda3/lib/python3.6/site-packages/h5py/__init__.py:34: FutureWarning: Conversion of the second argument of issubdtype from `float` to `np.floating` is deprecated. In future, it will be treated as `np.float64 == np.dtype(float).type`.\n",
      "  from ._conv import register_converters as _register_converters\n",
      "/home/wanw/tmp/anaconda3/lib/python3.6/site-packages/sklearn/cross_validation.py:41: DeprecationWarning: This module was deprecated in version 0.18 in favor of the model_selection module into which all the refactored classes and functions are moved. Also note that the interface of the new CV iterators are different from that of this module. This module will be removed in 0.20.\n",
      "  \"This module will be removed in 0.20.\", DeprecationWarning)\n"
     ]
    }
   ],
   "source": [
    "import data_engine\n",
    "from feature_extractor.core import load_extractor_config,extract_feature \n",
    "from framework import use_analyzer_on_the_date,extract_stock_feature,load_extracted_feature,prepare_stock_data,load_analyzer_record,use_analyzer_on_stock\n",
    "import analyzer\n",
    "from analyzer.core import load_analyzer_config,prepare_data,split_cv,get_X,get_Y\n",
    "from analyzer.target import tri_trend\n",
    "from analyzer.metrics import show_nclass_metrics\n",
    "import xgboost as xgb\n",
    "import matplotlib.pyplot as plt\n",
    "import numpy as np\n"
   ]
  },
  {
   "cell_type": "code",
   "execution_count": 2,
   "metadata": {
    "collapsed": true
   },
   "outputs": [],
   "source": [
    "record_path = \"records/talib\""
   ]
  },
  {
   "cell_type": "code",
   "execution_count": null,
   "metadata": {
    "collapsed": false
   },
   "outputs": [],
   "source": [
    "analyzer = load_analyzer_record(record_path)\n",
    "df,y=use_analyzer_on_the_date(analyzer,'2018-02-27')"
   ]
  },
  {
   "cell_type": "code",
   "execution_count": null,
   "metadata": {
    "collapsed": false
   },
   "outputs": [],
   "source": [
    "df['VMA5']"
   ]
  },
  {
   "cell_type": "code",
   "execution_count": 3,
   "metadata": {
    "collapsed": false
   },
   "outputs": [],
   "source": [
    "analyzer = load_analyzer_record(record_path)\n",
    "analyzer_config_file = analyzer.get('analyzer_config_file')\n",
    "data_config_file = analyzer.get('data_config_file')\n",
    "feature_config_file = analyzer.get('feature_config_file')\n",
    "model = analyzer.get('model')\n",
    "analyzer_config = load_analyzer_config(analyzer_config_file)"
   ]
  },
  {
   "cell_type": "code",
   "execution_count": null,
   "metadata": {
    "collapsed": false
   },
   "outputs": [],
   "source": [
    "model.display()"
   ]
  },
  {
   "cell_type": "code",
   "execution_count": null,
   "metadata": {
    "collapsed": false
   },
   "outputs": [],
   "source": [
    "print(model.model.get_fscore())"
   ]
  },
  {
   "cell_type": "code",
   "execution_count": 4,
   "metadata": {
    "collapsed": false
   },
   "outputs": [
    {
     "name": "stdout",
     "output_type": "stream",
     "text": [
      "2017-01-01\n",
      "2019-02-28\n",
      "<module 'feature_extractor.features.ta' from '/home/wanw/stockAnalyze/feature_extractor/features/ta.py'>\n",
      "<module 'feature_extractor.features.ta' from '/home/wanw/stockAnalyze/feature_extractor/features/ta.py'>\n",
      "get k data 2017-01-01 2019-02-28\n",
      "./cached/k/000651-2004-01-01-2019-02-28.bin\n",
      "2018-01-02\n",
      "2019-02-27\n",
      "2018-01-02-2019-02-27\n"
     ]
    },
    {
     "name": "stderr",
     "output_type": "stream",
     "text": [
      "/home/wanw/stockAnalyze/feature_extractor/features/target.py:23: SettingWithCopyWarning: \n",
      "A value is trying to be set on a copy of a slice from a DataFrame.\n",
      "Try using .loc[row_indexer,col_indexer] = value instead\n",
      "\n",
      "See the caveats in the documentation: http://pandas.pydata.org/pandas-docs/stable/indexing.html#indexing-view-versus-copy\n",
      "  df[name] = (df.close - df['low'].rolling(N).min())/df.close*100\n",
      "/home/wanw/stockAnalyze/feature_extractor/features/target.py:24: SettingWithCopyWarning: \n",
      "A value is trying to be set on a copy of a slice from a DataFrame.\n",
      "Try using .loc[row_indexer,col_indexer] = value instead\n",
      "\n",
      "See the caveats in the documentation: http://pandas.pydata.org/pandas-docs/stable/indexing.html#indexing-view-versus-copy\n",
      "  df[name] = np.where(df[name]<0,0,df[name])\n",
      "/home/wanw/stockAnalyze/feature_extractor/features/target.py:47: SettingWithCopyWarning: \n",
      "A value is trying to be set on a copy of a slice from a DataFrame.\n",
      "Try using .loc[row_indexer,col_indexer] = value instead\n",
      "\n",
      "See the caveats in the documentation: http://pandas.pydata.org/pandas-docs/stable/indexing.html#indexing-view-versus-copy\n",
      "  df[name] = (df['close'].rolling(N).mean()-df.close)/df.close*100\n"
     ]
    },
    {
     "name": "stdout",
     "output_type": "stream",
     "text": [
      "2018-01-02-2019-02-27\n",
      "2018-01-02\n",
      "2019-02-27\n",
      "<module 'feature_extractor.features.ta' from '/home/wanw/stockAnalyze/feature_extractor/features/ta.py'>\n",
      "<module 'feature_extractor.features.ta' from '/home/wanw/stockAnalyze/feature_extractor/features/ta.py'>\n",
      "./cached/k/000001-2004-01-01-2019-02-28.bin\n",
      "./cached/k/399001-2004-01-01-2019-02-28.bin\n",
      "./cached/k/399005-2004-01-01-2019-02-28.bin\n",
      "./cached/k/399006-2004-01-01-2019-02-28.bin\n",
      "2018-01-02\n",
      "2019-02-27\n"
     ]
    }
   ],
   "source": [
    "df,y = use_analyzer_on_stock('000651',analyzer,'2017-01-01','2019-02-28')"
   ]
  },
  {
   "cell_type": "code",
   "execution_count": null,
   "metadata": {
    "collapsed": false
   },
   "outputs": [],
   "source": [
    "#fig,ax = plt.subplots(figsize=(15,15))\n",
    "plt.plot(df.date,df.close,color='lightblue')\n",
    "df['y']=y\n",
    "sell = df[df.y==0]\n",
    "buy = df[df.y==2]\n",
    "plt.scatter(sell.index,sell.close,marker='x',color='green')\n",
    "plt.scatter(buy.index,buy.close,marker='o',color='red')\n",
    "#plt.scatter(df.index*(y==2),df.close*(y==2),marker='+')\n",
    "plt.show()"
   ]
  },
  {
   "cell_type": "code",
   "execution_count": null,
   "metadata": {
    "collapsed": false
   },
   "outputs": [],
   "source": [
    "buy"
   ]
  },
  {
   "cell_type": "code",
   "execution_count": null,
   "metadata": {
    "collapsed": false
   },
   "outputs": [],
   "source": [
    "df"
   ]
  },
  {
   "cell_type": "code",
   "execution_count": null,
   "metadata": {
    "collapsed": true
   },
   "outputs": [],
   "source": []
  }
 ],
 "metadata": {
  "kernelspec": {
   "display_name": "Python 3",
   "language": "python",
   "name": "python3"
  },
  "language_info": {
   "codemirror_mode": {
    "name": "ipython",
    "version": 3
   },
   "file_extension": ".py",
   "mimetype": "text/x-python",
   "name": "python",
   "nbconvert_exporter": "python",
   "pygments_lexer": "ipython3",
   "version": "3.6.0"
  }
 },
 "nbformat": 4,
 "nbformat_minor": 2
}
