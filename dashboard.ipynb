{
 "cells": [
  {
   "cell_type": "code",
   "execution_count": 16,
   "metadata": {
    "collapsed": false
   },
   "outputs": [],
   "source": [
    "import data_engine\n",
    "from feature_extractor.core import load_extractor_config,extract_feature \n",
    "from framework import extract_stock_feature,load_extracted_feature \n",
    "import analyzer\n",
    "from analyzer.core import load_analyzer_config,prepare_data,split_cv,get_X,get_Y\n",
    "from analyzer.target import tri_trend\n",
    "from analyzer.metrics import showMetrics\n",
    "import xgboost as xgb\n",
    "import matplotlib.pyplot as plt\n",
    "import numpy as np\n"
   ]
  },
  {
   "cell_type": "code",
   "execution_count": 2,
   "metadata": {
    "collapsed": true
   },
   "outputs": [],
   "source": [
    "data_config_file=\"configs/data_config/300.json\"\n",
    "feature_config_file=\"configs/feature_config/test_config.json\"\n",
    "analyzer_config_file=\"configs/analyzer_config/simple.cfg\""
   ]
  },
  {
   "cell_type": "code",
   "execution_count": 3,
   "metadata": {
    "collapsed": false
   },
   "outputs": [
    {
     "name": "stdout",
     "output_type": "stream",
     "text": [
      "<configparser.ConfigParser object at 0x7f17243af518>\n",
      "KeysView(<configparser.ConfigParser object at 0x7f17243af518>)\n",
      "[DEFAULT]\n",
      "[data]\n",
      "train_start = \"2005-01-01\"\n",
      "train_end = \"2017-12-31\"\n",
      "cv_date = \"2018-01-01\"\n",
      "validate_start = \"2018-01-01\"\n",
      "validate_end = \"2018-11-01\"\n",
      "[X]\n",
      "exclude = \n",
      "[Y]\n",
      "target = tri_trend\n",
      "mp_extract_stock_feature start-2019-02-27 03:27:21.524627\n",
      "['cache8.pkl', 'cache19.pkl', 'cache10.pkl', 'cache14.pkl', 'cache17.pkl', 'cache23.pkl', 'cache3.pkl', 'cache20.pkl', 'cache5.pkl', 'cache2.pkl', 'cache15.pkl', 'cache0.pkl', 'cache12.pkl', 'cache22.pkl', 'cache9.pkl', 'cache11.pkl', 'cache7.pkl', 'cache16.pkl', 'cache4.pkl', 'cache21.pkl', 'cache13.pkl', 'cache6.pkl', 'cache18.pkl', 'cache1.pkl']\n",
      "dir is not empty\n",
      "extract file path:/tmp/features/pool300_test_config_2004-01-01-2019-02-22 is not empty, wait 3s to check if the data is ok. You can remove the files in the directory,or pass argument force=True\n",
      "create index feature\n"
     ]
    },
    {
     "name": "stderr",
     "output_type": "stream",
     "text": [
      "/home/wanw/stockAnalyze/feature_extractor/features/target.py:23: SettingWithCopyWarning: \n",
      "A value is trying to be set on a copy of a slice from a DataFrame.\n",
      "Try using .loc[row_indexer,col_indexer] = value instead\n",
      "\n",
      "See the caveats in the documentation: http://pandas.pydata.org/pandas-docs/stable/indexing.html#indexing-view-versus-copy\n",
      "  df[name] = (df.close - df['low'].rolling(N).min())/df.close*100\n",
      "/home/wanw/stockAnalyze/feature_extractor/features/target.py:24: SettingWithCopyWarning: \n",
      "A value is trying to be set on a copy of a slice from a DataFrame.\n",
      "Try using .loc[row_indexer,col_indexer] = value instead\n",
      "\n",
      "See the caveats in the documentation: http://pandas.pydata.org/pandas-docs/stable/indexing.html#indexing-view-versus-copy\n",
      "  df[name] = np.where(df[name]<0,0,df[name])\n",
      "/home/wanw/stockAnalyze/feature_extractor/features/target.py:47: SettingWithCopyWarning: \n",
      "A value is trying to be set on a copy of a slice from a DataFrame.\n",
      "Try using .loc[row_indexer,col_indexer] = value instead\n",
      "\n",
      "See the caveats in the documentation: http://pandas.pydata.org/pandas-docs/stable/indexing.html#indexing-view-versus-copy\n",
      "  df[name] = (df['close'].rolling(N).mean()-df.close)/df.close*100\n"
     ]
    }
   ],
   "source": [
    "analyzer_config = load_analyzer_config(analyzer_config_file)\n",
    "extract_stock_feature(data_config_file,feature_config_file,force=False)\n",
    "df = load_extracted_feature(data_config_file,feature_config_file)"
   ]
  },
  {
   "cell_type": "code",
   "execution_count": 5,
   "metadata": {
    "collapsed": false
   },
   "outputs": [
    {
     "name": "stdout",
     "output_type": "stream",
     "text": [
      "                open          close           high            low  \\\n",
      "count  580136.000000  580136.000000  580136.000000  580136.000000   \n",
      "mean        9.641975       9.659650       9.873895       9.439039   \n",
      "std        12.289548      12.321581      12.632377      12.006005   \n",
      "min         0.213000       0.215000       0.223000       0.211000   \n",
      "25%         3.369000       3.372000       3.440000       3.302000   \n",
      "50%         6.162000       6.174000       6.300000       6.041000   \n",
      "75%        11.557000      11.576000      11.830000      11.316000   \n",
      "max       355.422000     360.565000     364.138000     345.738000   \n",
      "\n",
      "             volume        PDelta1        PDelta5       PDelta10  \\\n",
      "count  5.801360e+05  579837.000000  578649.000000  577173.000000   \n",
      "mean   1.408553e+05       0.082608       0.440819       0.858905   \n",
      "std    4.656629e+05       3.536226       8.626121      12.644253   \n",
      "min    1.000000e+00     -38.818845     -44.456359     -65.131490   \n",
      "25%    1.953913e+04      -1.504597      -3.642914      -5.192178   \n",
      "50%    5.010050e+04       0.038384       0.065531       0.000000   \n",
      "75%    1.254362e+05       1.585154       3.938000       5.730858   \n",
      "max    5.135466e+07    1004.081633    1017.391304     884.444444   \n",
      "\n",
      "            PDelta20            MA5      ...          VRI5_399006  \\\n",
      "count  574225.000000  578946.000000      ...        428567.000000   \n",
      "mean        1.635012       9.657914      ...             1.005378   \n",
      "std        19.089236      12.307898      ...             0.167086   \n",
      "min       -70.565046       0.222600      ...             0.012195   \n",
      "25%        -7.726528       3.374200      ...             0.888758   \n",
      "50%        -0.063715       6.176000      ...             0.990207   \n",
      "75%         8.592322      11.575800      ...             1.097857   \n",
      "max       816.949153     345.181600      ...             1.838420   \n",
      "\n",
      "        VRI10_399006   VRI20_399006  Y_mdw5_399006  Y_mdw10_399006  \\\n",
      "count  427930.000000  426659.000000  427882.000000   426410.000000   \n",
      "mean        1.010067       1.019282       3.230780        4.676426   \n",
      "std         0.202684       0.244947       2.834889        4.228631   \n",
      "min         0.011604       0.014210       0.000000        0.000000   \n",
      "25%         0.869074       0.853224       1.383204        1.892509   \n",
      "50%         0.987186       0.983959       2.469345        3.434521   \n",
      "75%         1.131717       1.154084       4.120245        6.119073   \n",
      "max         1.898502       2.336118      26.539576       33.568007   \n",
      "\n",
      "       Y_mdw20_399006  Y_pma5_399006  Y_pma10_399006  Y_pma20_399006  \\\n",
      "count   423482.000000  427882.000000   426410.000000   423482.000000   \n",
      "mean         6.713113       0.056948        0.117623        0.222821   \n",
      "std          5.787416       2.217268        3.421291        5.157955   \n",
      "min          0.000000     -13.233074      -17.622149      -23.546023   \n",
      "25%          2.705891      -1.164355       -1.726066       -2.744863   \n",
      "50%          5.281327       0.063674        0.146410        0.043390   \n",
      "75%          9.203172       1.321537        2.136953        3.015701   \n",
      "max         40.899195       9.541384       12.839686       21.167834   \n",
      "\n",
      "         Y_tri_trend  \n",
      "count  580137.000000  \n",
      "mean        0.810378  \n",
      "std         0.703682  \n",
      "min         0.000000  \n",
      "25%         0.000000  \n",
      "50%         1.000000  \n",
      "75%         1.000000  \n",
      "max         2.000000  \n",
      "\n",
      "[8 rows x 131 columns]\n",
      "Index(['date', 'open', 'close', 'high', 'low', 'volume', 'code', 'PDelta1',\n",
      "       'PDelta5', 'PDelta10',\n",
      "       ...\n",
      "       'VRI5_399006', 'VRI10_399006', 'VRI20_399006', 'Y_mdw5_399006',\n",
      "       'Y_mdw10_399006', 'Y_mdw20_399006', 'Y_pma5_399006', 'Y_pma10_399006',\n",
      "       'Y_pma20_399006', 'Y_tri_trend'],\n",
      "      dtype='object', length=133)\n"
     ]
    }
   ],
   "source": [
    "df = tri_trend(df,{})\n",
    "print(df.describe())\n",
    "print(df.columns)"
   ]
  },
  {
   "cell_type": "code",
   "execution_count": 6,
   "metadata": {
    "collapsed": false
   },
   "outputs": [
    {
     "name": "stdout",
     "output_type": "stream",
     "text": [
      "Index(['date', 'open', 'close', 'high', 'low', 'volume', 'code', 'PDelta1',\n",
      "       'PDelta5', 'PDelta10',\n",
      "       ...\n",
      "       'VRI5_399006', 'VRI10_399006', 'VRI20_399006', 'Y_mdw5_399006',\n",
      "       'Y_mdw10_399006', 'Y_mdw20_399006', 'Y_pma5_399006', 'Y_pma10_399006',\n",
      "       'Y_pma20_399006', 'Y_tri_trend'],\n",
      "      dtype='object', length=133)\n",
      "0         2008-01-16\n",
      "1         2008-01-16\n",
      "2         2008-01-16\n",
      "3         2008-01-16\n",
      "4         2008-01-16\n",
      "5         2008-01-16\n",
      "6         2008-01-16\n",
      "7         2008-01-16\n",
      "8         2008-01-16\n",
      "9         2008-01-16\n",
      "10        2008-01-16\n",
      "11        2008-01-16\n",
      "12        2008-01-16\n",
      "13        2008-01-16\n",
      "14        2008-01-16\n",
      "15        2008-01-16\n",
      "16        2008-01-16\n",
      "17        2008-01-16\n",
      "18        2008-01-16\n",
      "19        2008-01-16\n",
      "20        2008-01-16\n",
      "21        2008-01-16\n",
      "22        2008-01-16\n",
      "23        2008-01-16\n",
      "24        2008-01-16\n",
      "25        2008-01-16\n",
      "26        2008-01-16\n",
      "27        2008-01-16\n",
      "28        2008-01-16\n",
      "29        2008-01-16\n",
      "             ...    \n",
      "580107    2007-01-31\n",
      "580108    2007-01-31\n",
      "580109    2007-01-31\n",
      "580110    2007-01-31\n",
      "580111    2007-01-31\n",
      "580112    2007-01-31\n",
      "580113    2007-01-31\n",
      "580114    2007-01-31\n",
      "580115    2007-01-31\n",
      "580116    2007-01-31\n",
      "580117    2007-01-31\n",
      "580118    2007-01-31\n",
      "580119    2007-01-31\n",
      "580120    2007-01-31\n",
      "580121    2007-01-31\n",
      "580122    2007-01-31\n",
      "580123    2007-01-31\n",
      "580124    2007-01-31\n",
      "580125    2007-01-31\n",
      "580126    2007-01-31\n",
      "580127    2007-01-31\n",
      "580128    2007-01-31\n",
      "580129    2007-01-31\n",
      "580130    2007-01-31\n",
      "580131    2007-01-31\n",
      "580132    2007-01-31\n",
      "580133    2007-01-31\n",
      "580134    2007-01-31\n",
      "580135    2007-01-31\n",
      "580136    2007-09-04\n",
      "Name: date, Length: 580137, dtype: object\n",
      "                open          close           high            low  \\\n",
      "count  580136.000000  580136.000000  580136.000000  580136.000000   \n",
      "mean        9.641975       9.659650       9.873895       9.439039   \n",
      "std        12.289548      12.321581      12.632377      12.006005   \n",
      "min         0.213000       0.215000       0.223000       0.211000   \n",
      "25%         3.369000       3.372000       3.440000       3.302000   \n",
      "50%         6.162000       6.174000       6.300000       6.041000   \n",
      "75%        11.557000      11.576000      11.830000      11.316000   \n",
      "max       355.422000     360.565000     364.138000     345.738000   \n",
      "\n",
      "             volume        PDelta1        PDelta5       PDelta10  \\\n",
      "count  5.801360e+05  579837.000000  578649.000000  577173.000000   \n",
      "mean   1.408553e+05       0.082608       0.440819       0.858905   \n",
      "std    4.656629e+05       3.536226       8.626121      12.644253   \n",
      "min    1.000000e+00     -38.818845     -44.456359     -65.131490   \n",
      "25%    1.953913e+04      -1.504597      -3.642914      -5.192178   \n",
      "50%    5.010050e+04       0.038384       0.065531       0.000000   \n",
      "75%    1.254362e+05       1.585154       3.938000       5.730858   \n",
      "max    5.135466e+07    1004.081633    1017.391304     884.444444   \n",
      "\n",
      "            PDelta20            MA5      ...          VRI5_399006  \\\n",
      "count  574225.000000  578946.000000      ...        428567.000000   \n",
      "mean        1.635012       9.657914      ...             1.005378   \n",
      "std        19.089236      12.307898      ...             0.167086   \n",
      "min       -70.565046       0.222600      ...             0.012195   \n",
      "25%        -7.726528       3.374200      ...             0.888758   \n",
      "50%        -0.063715       6.176000      ...             0.990207   \n",
      "75%         8.592322      11.575800      ...             1.097857   \n",
      "max       816.949153     345.181600      ...             1.838420   \n",
      "\n",
      "        VRI10_399006   VRI20_399006  Y_mdw5_399006  Y_mdw10_399006  \\\n",
      "count  427930.000000  426659.000000  427882.000000   426410.000000   \n",
      "mean        1.010067       1.019282       3.230780        4.676426   \n",
      "std         0.202684       0.244947       2.834889        4.228631   \n",
      "min         0.011604       0.014210       0.000000        0.000000   \n",
      "25%         0.869074       0.853224       1.383204        1.892509   \n",
      "50%         0.987186       0.983959       2.469345        3.434521   \n",
      "75%         1.131717       1.154084       4.120245        6.119073   \n",
      "max         1.898502       2.336118      26.539576       33.568007   \n",
      "\n",
      "       Y_mdw20_399006  Y_pma5_399006  Y_pma10_399006  Y_pma20_399006  \\\n",
      "count   423482.000000  427882.000000   426410.000000   423482.000000   \n",
      "mean         6.713113       0.056948        0.117623        0.222821   \n",
      "std          5.787416       2.217268        3.421291        5.157955   \n",
      "min          0.000000     -13.233074      -17.622149      -23.546023   \n",
      "25%          2.705891      -1.164355       -1.726066       -2.744863   \n",
      "50%          5.281327       0.063674        0.146410        0.043390   \n",
      "75%          9.203172       1.321537        2.136953        3.015701   \n",
      "max         40.899195       9.541384       12.839686       21.167834   \n",
      "\n",
      "         Y_tri_trend  \n",
      "count  580137.000000  \n",
      "mean        0.810378  \n",
      "std         0.703682  \n",
      "min         0.000000  \n",
      "25%         0.000000  \n",
      "50%         1.000000  \n",
      "75%         1.000000  \n",
      "max         2.000000  \n",
      "\n",
      "[8 rows x 131 columns]\n",
      "2018-01-01\n",
      "2004-01-02\n",
      "2019-02-22\n",
      "train:(484101, 133),test:(52105, 133)\n"
     ]
    }
   ],
   "source": [
    "df = prepare_data(df,analyzer_config)\n",
    "train_df,test_df = split_cv(df,analyzer_config)\n",
    "print('train:{},test:{}'.format(train_df.shape,test_df.shape))\n",
    "train_X = get_X(train_df,analyzer_config)\n",
    "train_Y = get_Y(train_df,analyzer_config)"
   ]
  },
  {
   "cell_type": "code",
   "execution_count": 13,
   "metadata": {
    "collapsed": true
   },
   "outputs": [],
   "source": [
    "params = {\"booster\": \"gbtree\",\n",
    "          'max_depth':4, \n",
    "          'eta':0.3, \n",
    "          'silent':1, \n",
    "          'objective':'multi:softmax',\n",
    "          'num_class':3 ,\n",
    "          \"subsample\":0.5,\n",
    "          \"colsample_bytree\":0.5,\n",
    "          \"learning_rate\":0.1,\n",
    "          \"n_estimators\":140,\n",
    "          \"gamma\":0}\n",
    "num_round = 100 \n",
    "    \n",
    "dtrain = xgb.DMatrix( train_X,train_Y)\n",
    "model = xgb.train(params.items(), dtrain, num_round)"
   ]
  },
  {
   "cell_type": "code",
   "execution_count": 12,
   "metadata": {
    "collapsed": false
   },
   "outputs": [
    {
     "data": {
      "text/plain": [
       "<Figure size 1296x1440 with 0 Axes>"
      ]
     },
     "metadata": {},
     "output_type": "display_data"
    },
    {
     "data": {
      "image/png": "[encoded data removed]",
      "text/plain": [
       "<Figure size 432x288 with 1 Axes>"
      ]
     },
     "metadata": {},
     "output_type": "display_data"
    }
   ],
   "source": [
    "plt.figure(figsize=(18,20))\n",
    "xgb.plot_importance(model)\n",
    "plt.show()"
   ]
  },
  {
   "cell_type": "code",
   "execution_count": 14,
   "metadata": {
    "collapsed": false
   },
   "outputs": [
    {
     "name": "stdout",
     "output_type": "stream",
     "text": [
      "train loss:\n",
      "accuracy:0.641829 precision:0.675139 recall:0.559879 f1:0.574912\n",
      "class precision\n",
      "[0.73167891 0.59641759 0.69731989]\n",
      "class recall\n",
      "[0.593921   0.8288813  0.25683462]\n",
      "class f1\n",
      "[0.65564197 0.69369224 0.37540228]\n"
     ]
    }
   ],
   "source": [
    "print('train loss:')\n",
    "ytrain = model.predict(dtrain)\n",
    "showMetrics(train_Y,ytrain)"
   ]
  },
  {
   "cell_type": "code",
   "execution_count": 17,
   "metadata": {
    "collapsed": false
   },
   "outputs": [
    {
     "name": "stdout",
     "output_type": "stream",
     "text": [
      "test loss:\n",
      "[1. 1. 1. ... 1. 1. 0.]\n",
      "0.0\n",
      "[1 0 1 ... 0 1 0]\n",
      "0\n",
      "accuracy:0.412705 precision:0.547490 recall:0.347324 f1:0.226209\n",
      "class precision\n",
      "[0.78134557 0.40763607 0.45348837]\n",
      "class recall\n",
      "[0.02028663 0.9884981  0.03318584]\n",
      "class f1\n",
      "[0.03954649 0.57723318 0.06184586]\n"
     ]
    }
   ],
   "source": [
    "print('test loss:')\n",
    "test_X = get_X(test_df,analyzer_config)\n",
    "test_Y = get_Y(test_df,analyzer_config)\n",
    "dtest= xgb.DMatrix( test_X)\n",
    "ytest = model.predict(dtest)\n",
    "print(ytest)\n",
    "print(min(ytest))\n",
    "print(np.array(list(test_Y)))\n",
    "print(min(test_Y))\n",
    "showMetrics(test_Y,ytest)"
   ]
  },
  {
   "cell_type": "code",
   "execution_count": null,
   "metadata": {
    "collapsed": true
   },
   "outputs": [],
   "source": []
  }
 ],
 "metadata": {
  "kernelspec": {
   "display_name": "Python 3",
   "language": "python",
   "name": "python3"
  },
  "language_info": {
   "codemirror_mode": {
    "name": "ipython",
    "version": 3
   },
   "file_extension": ".py",
   "mimetype": "text/x-python",
   "name": "python",
   "nbconvert_exporter": "python",
   "pygments_lexer": "ipython3",
   "version": "3.6.0"
  }
 },
 "nbformat": 4,
 "nbformat_minor": 2
}
